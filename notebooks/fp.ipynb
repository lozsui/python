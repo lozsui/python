{
 "cells": [
  {
   "cell_type": "code",
   "execution_count": 15,
   "metadata": {
    "collapsed": false,
    "pycharm": {
     "name": "#%% Grabbing Excess Items (1)\n"
    }
   },
   "outputs": [
    {
     "name": "stdout",
     "output_type": "stream",
     "text": [
      "0\n",
      "1\n",
      "[2, 3, 4]\n"
     ]
    }
   ],
   "source": [
    "a, b, *rest = range(5)\n",
    "print(a)\n",
    "print(b)\n",
    "print(rest)"
   ]
  },
  {
   "cell_type": "code",
   "execution_count": 16,
   "metadata": {
    "collapsed": false,
    "pycharm": {
     "name": "#%% Grabbing Excess Items (2)\n"
    }
   },
   "outputs": [
    {
     "name": "stdout",
     "output_type": "stream",
     "text": [
      "0\n",
      "4\n",
      "[1, 2, 3]\n"
     ]
    }
   ],
   "source": [
    "a, *middle, b = range(5)\n",
    "print(a)\n",
    "print(b)\n",
    "print(middle)"
   ]
  },
  {
   "cell_type": "code",
   "execution_count": 17,
   "metadata": {
    "collapsed": false,
    "pycharm": {
     "name": "#%% Nested Unpacking\n"
    }
   },
   "outputs": [
    {
     "name": "stdout",
     "output_type": "stream",
     "text": [
      "Sam        | 42 | 1.870 | Hansbeat   | Madeleine \n",
      "Shirley    | 43 | 1.610 | John       | Maya      \n"
     ]
    }
   ],
   "source": [
    "persons = [\n",
    "    ('Sam', 42, 1.87, ('Hansbeat', 'Madeleine')),\n",
    "    ('Shirley', 43, 1.61, ('John', 'Maya')),\n",
    "]\n",
    "fmt = '{:10} | {:2d} | {:1.3f} | {:10} | {:10}'\n",
    "for person, age, height, (father, mother) in persons:\n",
    "    print(fmt.format(person, age, height, father, mother))\n",
    "\n",
    "# ------------- Hint -----------------------\n",
    "# For naming columns see namedtuple factory.\n",
    "# ------------------------------------------"
   ]
  },
  {
   "cell_type": "code",
   "execution_count": 18,
   "metadata": {},
   "outputs": [
    {
     "name": "stdout",
     "output_type": "stream",
     "text": [
      "Person(name='Sam', age=42, height=1.87, father_mother=('Hansbeat', 'Madeleine'))\n",
      "Person(name='Shirley', age=43, height=1.61, father_mother=('John', 'Maya'))\n"
     ]
    }
   ],
   "source": [
    "import collections\n",
    "\n",
    "Person = collections.namedtuple('Person', ['name', 'age', 'height', 'father_mother'])\n",
    "persons = [\n",
    "    Person('Sam', 42, 1.87, ('Hansbeat', 'Madeleine')),\n",
    "    Person('Shirley', 43, 1.61, ('John', 'Maya')),\n",
    "]\n",
    "for person in persons:\n",
    "    # Idea behind this code: print it out nicely formated.\n",
    "    print(person)"
   ]
  },
  {
   "cell_type": "code",
   "execution_count": 19,
   "metadata": {
    "collapsed": false,
    "pycharm": {
     "name": "#%% Splitting\n"
    }
   },
   "outputs": [
    {
     "name": "stdout",
     "output_type": "stream",
     "text": [
      "[1, 2]\n",
      "[3, 4]\n"
     ]
    }
   ],
   "source": [
    "my_list = [1, 2, 3, 4]\n",
    "print(my_list[:2])\n",
    "print(my_list[2:])"
   ]
  },
  {
   "cell_type": "code",
   "execution_count": 20,
   "metadata": {
    "collapsed": false,
    "pycharm": {
     "name": "#%% Replace parts of a list\n"
    }
   },
   "outputs": [
    {
     "name": "stdout",
     "output_type": "stream",
     "text": [
      "[0, 1, 2, 3, 4, 5, 6, 7, 8, 9]\n",
      "[0, 1, 2, 3, 4, 5, 6, 7, 'a', 'b', 'c']\n",
      "[2, 3, 4, 5, 6, 7, 'a', 'b', 'c']\n",
      "[2, 42, 4, 43, 6, 44, 'a', 45, 'c']\n"
     ]
    }
   ],
   "source": [
    "my_list = list(range(0,10))\n",
    "print(my_list)\n",
    "my_list[8:10] = ['a', 'b', 'c']\n",
    "print(my_list)\n",
    "del my_list[0:2]\n",
    "print(my_list)\n",
    "my_list[1::2] = [42, 43, 44, 45]\n",
    "print(my_list)"
   ]
  },
  {
   "cell_type": "code",
   "execution_count": 21,
   "metadata": {
    "collapsed": false,
    "pycharm": {
     "name": "#%% Tik, tak, toe right an wrong\n"
    }
   },
   "outputs": [
    {
     "name": "stdout",
     "output_type": "stream",
     "text": [
      "[['X', '_', '_'], ['_', '_', '_'], ['_', '_', '_']]\n",
      "[['X', '_', '_'], ['X', '_', '_'], ['X', '_', '_']]\n"
     ]
    }
   ],
   "source": [
    "# The right way:\n",
    "tik_tak_toe = [['_'] * 3 for i in range(3)]\n",
    "tik_tak_toe[0][0] = 'X'\n",
    "print(tik_tak_toe)\n",
    "\"\"\"\n",
    "The wrong way: Three references to the same list.\n",
    "\"\"\"\n",
    "tik_tak_toe = [['_'] * 3] * 3\n",
    "test = [['_'] * 3] * 3\n",
    "tik_tak_toe[0][0] = 'X'\n",
    "print(tik_tak_toe)"
   ]
  },
  {
   "cell_type": "code",
   "execution_count": 22,
   "metadata": {
    "collapsed": false,
    "pycharm": {
     "name": "#%% sort and sorted\n"
    }
   },
   "outputs": [
    {
     "name": "stdout",
     "output_type": "stream",
     "text": [
      "['Adelheid', 'Gustav', 'Hans', 'Karl Leopold', 'Peter']\n",
      "['Peter', 'Karl Leopold', 'Hans', 'Gustav', 'Adelheid']\n",
      "['Hans', 'Peter', 'Gustav', 'Adelheid', 'Karl Leopold']\n",
      "['Peter', 'Hans', 'Gustav', 'Adelheid', 'Karl Leopold']\n",
      "['Adelheid', 'Gustav', 'Hans', 'Karl Leopold', 'Peter']\n"
     ]
    }
   ],
   "source": [
    "\"\"\"\n",
    "sort sorts the list returns 'None'. sorted returns a sorted list.\n",
    "\"\"\"\n",
    "names = ['Peter', 'Hans', 'Gustav', 'Adelheid', 'Karl Leopold']\n",
    "print(sorted(names))\n",
    "print(sorted(names, reverse=True))\n",
    "print(sorted(names, key=len))\n",
    "print(names)\n",
    "names.sort()\n",
    "print(names)"
   ]
  },
  {
   "cell_type": "code",
   "execution_count": 33,
   "metadata": {
    "collapsed": false,
    "pycharm": {
     "name": "#%% Return position as search result of sorted sequence with bisect\n"
    }
   },
   "outputs": [
    {
     "name": "stdout",
     "output_type": "stream",
     "text": [
      "3\n",
      "2\n"
     ]
    }
   ],
   "source": [
    "\"\"\"\n",
    "There is a bisect_right and bisect_left. bisect is an alias of\n",
    "bisect_right.\n",
    "\"\"\"\n",
    "\n",
    "import bisect\n",
    "to_be_searched = ['Adam', 'Carl', 'Daniel']\n",
    "position = bisect.bisect(to_be_searched, 'Werner')\n",
    "print(position)\n",
    "position = bisect.bisect(to_be_searched, 'Cohen')\n",
    "print(position)"
   ]
  },
  {
   "cell_type": "code",
   "execution_count": 24,
   "metadata": {
    "collapsed": false,
    "pycharm": {
     "name": "#%% Insert a element at the right place\n"
    }
   },
   "outputs": [
    {
     "name": "stdout",
     "output_type": "stream",
     "text": [
      "['Adam', 'Carl', 'Daniel', 'Werner']\n",
      "['Abraham', 'Adam', 'Carl', 'Daniel', 'Werner']\n"
     ]
    }
   ],
   "source": [
    "my_list = ['Adam', 'Carl', 'Daniel']\n",
    "bisect.insort(my_list, \"Werner\")\n",
    "print(my_list)\n",
    "bisect.insort(my_list, \"Abraham\")\n",
    "print(my_list)"
   ]
  }
 ],
 "metadata": {
  "kernelspec": {
   "display_name": "Python 3",
   "language": "python",
   "name": "python3"
  },
  "language_info": {
   "codemirror_mode": {
    "name": "ipython",
    "version": 3
   },
   "file_extension": ".py",
   "mimetype": "text/x-python",
   "name": "python",
   "nbconvert_exporter": "python",
   "pygments_lexer": "ipython3",
   "version": "3.10.12"
  },
  "pycharm": {
   "stem_cell": {
    "cell_type": "raw",
    "metadata": {
     "collapsed": false
    },
    "source": [
     "# In this notebook I am experimenting with examples by Luciano Ramalho in\n",
     "# his book Fluent Python 2nd edition."
    ]
   }
  }
 },
 "nbformat": 4,
 "nbformat_minor": 0
}
