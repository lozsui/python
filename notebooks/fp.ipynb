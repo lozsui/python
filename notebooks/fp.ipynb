{
 "cells": [
  {
   "cell_type": "code",
   "execution_count": 1,
   "outputs": [
    {
     "name": "stdout",
     "output_type": "stream",
     "text": [
      "0\n",
      "1\n",
      "[2, 3, 4]\n"
     ]
    }
   ],
   "source": [
    "a, b, *rest = range(5)\n",
    "print(a)\n",
    "print(b)\n",
    "print(rest)"
   ],
   "metadata": {
    "collapsed": false,
    "pycharm": {
     "name": "#%% Grabbing Excess Items (1)\n"
    }
   }
  },
  {
   "cell_type": "code",
   "execution_count": 2,
   "outputs": [
    {
     "name": "stdout",
     "output_type": "stream",
     "text": [
      "0\n",
      "4\n",
      "[1, 2, 3]\n"
     ]
    }
   ],
   "source": [
    "a, *middle, b = range(5)\n",
    "print(a)\n",
    "print(b)\n",
    "print(middle)"
   ],
   "metadata": {
    "collapsed": false,
    "pycharm": {
     "name": "#%% Grabbing Excess Items (2)\n"
    }
   }
  },
  {
   "cell_type": "code",
   "execution_count": 6,
   "outputs": [
    {
     "ename": "ValueError",
     "evalue": "not enough values to unpack (expected 5, got 4)",
     "output_type": "error",
     "traceback": [
      "\u001B[0;31m---------------------------------------------------------------------------\u001B[0m",
      "\u001B[0;31mValueError\u001B[0m                                Traceback (most recent call last)",
      "\u001B[0;32m<ipython-input-6-9434687b475e>\u001B[0m in \u001B[0;36m<module>\u001B[0;34m\u001B[0m\n\u001B[1;32m      4\u001B[0m ]\n\u001B[1;32m      5\u001B[0m \u001B[0mfmt\u001B[0m \u001B[0;34m=\u001B[0m \u001B[0;34m'{:10} | {:2d} | {:1.3f} | {:10} | {:10}'\u001B[0m\u001B[0;34m\u001B[0m\u001B[0;34m\u001B[0m\u001B[0m\n\u001B[0;32m----> 6\u001B[0;31m \u001B[0;32mfor\u001B[0m \u001B[0mperson\u001B[0m\u001B[0;34m,\u001B[0m \u001B[0mage\u001B[0m\u001B[0;34m,\u001B[0m \u001B[0mheight\u001B[0m\u001B[0;34m,\u001B[0m \u001B[0mfather\u001B[0m\u001B[0;34m,\u001B[0m \u001B[0mmother\u001B[0m \u001B[0;32min\u001B[0m \u001B[0mpersons\u001B[0m\u001B[0;34m:\u001B[0m\u001B[0;34m\u001B[0m\u001B[0;34m\u001B[0m\u001B[0m\n\u001B[0m\u001B[1;32m      7\u001B[0m     \u001B[0mprint\u001B[0m\u001B[0;34m(\u001B[0m\u001B[0mfmt\u001B[0m\u001B[0;34m.\u001B[0m\u001B[0mformat\u001B[0m\u001B[0;34m(\u001B[0m\u001B[0mperson\u001B[0m\u001B[0;34m,\u001B[0m \u001B[0mage\u001B[0m\u001B[0;34m,\u001B[0m \u001B[0mheight\u001B[0m\u001B[0;34m,\u001B[0m \u001B[0mfather\u001B[0m\u001B[0;34m,\u001B[0m \u001B[0mmother\u001B[0m\u001B[0;34m)\u001B[0m\u001B[0;34m)\u001B[0m\u001B[0;34m\u001B[0m\u001B[0;34m\u001B[0m\u001B[0m\n",
      "\u001B[0;31mValueError\u001B[0m: not enough values to unpack (expected 5, got 4)"
     ]
    }
   ],
   "source": [
    "persons = [\n",
    "    ('Sam', 42, 1.87, ('Hansbeat', 'Madeleine')),\n",
    "    ('Shirley', 43, 1.61, ('John', 'Maya')),\n",
    "]\n",
    "fmt = '{:10} | {:2d} | {:1.3f} | {:10} | {:10}'\n",
    "for person, age, height, (father, mother) in persons:\n",
    "    print(fmt.format(person, age, height, father, mother))\n",
    "\n",
    "# ------------- Hint -----------------------\n",
    "# For naming columns see namedtuple factory.\n",
    "# ------------------------------------------"
   ],
   "metadata": {
    "collapsed": false,
    "pycharm": {
     "name": "#%% Nested Unpacking\n"
    }
   }
  },
  {
   "cell_type": "code",
   "execution_count": 7,
   "outputs": [
    {
     "name": "stdout",
     "output_type": "stream",
     "text": [
      "[1, 2]\n",
      "[3, 4]\n"
     ]
    }
   ],
   "source": [
    "my_list = [1, 2, 3, 4]\n",
    "print(my_list[:2])\n",
    "print(my_list[2:])"
   ],
   "metadata": {
    "collapsed": false,
    "pycharm": {
     "name": "#%% Splitting\n"
    }
   }
  }
 ],
 "metadata": {
  "kernelspec": {
   "display_name": "Python 3",
   "language": "python",
   "name": "python3"
  },
  "language_info": {
   "codemirror_mode": {
    "name": "ipython",
    "version": 2
   },
   "file_extension": ".py",
   "mimetype": "text/x-python",
   "name": "python",
   "nbconvert_exporter": "python",
   "pygments_lexer": "ipython2",
   "version": "2.7.6"
  },
  "pycharm": {
   "stem_cell": {
    "cell_type": "raw",
    "source": [
     "# In this notebook I am experimenting with examples by Luciano Ramalho in\n",
     "# his book Fluent Python 2nd edition."
    ],
    "metadata": {
     "collapsed": false
    }
   }
  }
 },
 "nbformat": 4,
 "nbformat_minor": 0
}